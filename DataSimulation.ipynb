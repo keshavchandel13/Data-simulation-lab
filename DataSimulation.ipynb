{
  "nbformat": 4,
  "nbformat_minor": 0,
  "metadata": {
    "colab": {
      "provenance": [],
      "authorship_tag": "ABX9TyNHixroelamnfVcJYnheDZV",
      "include_colab_link": true
    },
    "kernelspec": {
      "name": "python3",
      "display_name": "Python 3"
    },
    "language_info": {
      "name": "python"
    }
  },
  "cells": [
    {
      "cell_type": "markdown",
      "metadata": {
        "id": "view-in-github",
        "colab_type": "text"
      },
      "source": [
        "<a href=\"https://colab.research.google.com/github/keshavchandel13/Data-simulation-lab/blob/main/DataSimulation.ipynb\" target=\"_parent\"><img src=\"https://colab.research.google.com/assets/colab-badge.svg\" alt=\"Open In Colab\"/></a>"
      ]
    },
    {
      "cell_type": "markdown",
      "source": [
        "# DATA SIMULATION LAB\n"
      ],
      "metadata": {
        "id": "UjWndlc9n9s-"
      }
    },
    {
      "cell_type": "code",
      "source": [
        "#  --> Making  iterable\n",
        "# review of basic of python\n",
        "word = \"JUIT\"\n",
        "it = iter(word)\n",
        "print(it)\n",
        "next(it)"
      ],
      "metadata": {
        "colab": {
          "base_uri": "https://localhost:8080/",
          "height": 52
        },
        "id": "N6PHNbA7qtzD",
        "outputId": "f89e116f-5475-4d9c-fd67-f56ad512555f"
      },
      "execution_count": null,
      "outputs": [
        {
          "output_type": "stream",
          "name": "stdout",
          "text": [
            "<str_ascii_iterator object at 0x7c2692684af0>\n"
          ]
        },
        {
          "output_type": "execute_result",
          "data": {
            "text/plain": [
              "'J'"
            ],
            "application/vnd.google.colaboratory.intrinsic+json": {
              "type": "string"
            }
          },
          "metadata": {},
          "execution_count": 4
        }
      ]
    },
    {
      "cell_type": "code",
      "source": [
        "print(it)\n",
        "next(it)"
      ],
      "metadata": {
        "colab": {
          "base_uri": "https://localhost:8080/",
          "height": 52
        },
        "id": "dkA_tvQ7q7ga",
        "outputId": "83f2334f-c197-4db7-c8b9-3498c01950de"
      },
      "execution_count": null,
      "outputs": [
        {
          "output_type": "stream",
          "name": "stdout",
          "text": [
            "<str_ascii_iterator object at 0x7c2692684af0>\n"
          ]
        },
        {
          "output_type": "execute_result",
          "data": {
            "text/plain": [
              "'U'"
            ],
            "application/vnd.google.colaboratory.intrinsic+json": {
              "type": "string"
            }
          },
          "metadata": {},
          "execution_count": 5
        }
      ]
    },
    {
      "cell_type": "code",
      "source": [
        "print(it)\n",
        "next(it)"
      ],
      "metadata": {
        "colab": {
          "base_uri": "https://localhost:8080/",
          "height": 52
        },
        "id": "qk0rrc8JrDoY",
        "outputId": "f4a73f8e-cb1b-4d5a-ea7f-818bb748478d"
      },
      "execution_count": null,
      "outputs": [
        {
          "output_type": "stream",
          "name": "stdout",
          "text": [
            "<str_ascii_iterator object at 0x7c2692684af0>\n"
          ]
        },
        {
          "output_type": "execute_result",
          "data": {
            "text/plain": [
              "'I'"
            ],
            "application/vnd.google.colaboratory.intrinsic+json": {
              "type": "string"
            }
          },
          "metadata": {},
          "execution_count": 6
        }
      ]
    },
    {
      "cell_type": "code",
      "source": [
        "print(it)\n",
        "next(it)"
      ],
      "metadata": {
        "colab": {
          "base_uri": "https://localhost:8080/",
          "height": 52
        },
        "id": "An-5cd57rG4w",
        "outputId": "f31fa5ea-c262-4ea1-c7b0-03a0dfa882cf"
      },
      "execution_count": null,
      "outputs": [
        {
          "output_type": "stream",
          "name": "stdout",
          "text": [
            "<str_ascii_iterator object at 0x7c2692684af0>\n"
          ]
        },
        {
          "output_type": "execute_result",
          "data": {
            "text/plain": [
              "'T'"
            ],
            "application/vnd.google.colaboratory.intrinsic+json": {
              "type": "string"
            }
          },
          "metadata": {},
          "execution_count": 7
        }
      ]
    },
    {
      "cell_type": "markdown",
      "source": [
        "# Generator Function\n",
        "generator function is a special kind of function that returns an iterator object, allowing you to iterate over a sequence of values one at a time.\n"
      ],
      "metadata": {
        "id": "7BIUWYR3vLWA"
      }
    },
    {
      "cell_type": "code",
      "source": [
        "def generator_fun():\n",
        "  yield 1\n",
        "  yield 2\n",
        "  yield 3\n",
        "  yield 10\n",
        "a = generator_fun()\n",
        "print(type(a))\n",
        "for i in a:\n",
        "  print(i,end=\" \")\n",
        "\n"
      ],
      "metadata": {
        "colab": {
          "base_uri": "https://localhost:8080/"
        },
        "id": "hTcSVeFLreeh",
        "outputId": "5b805700-f11c-4715-cbae-eeb0c0d1f606"
      },
      "execution_count": null,
      "outputs": [
        {
          "output_type": "stream",
          "name": "stdout",
          "text": [
            "<class 'generator'>\n",
            "1 2 3 10 "
          ]
        }
      ]
    },
    {
      "cell_type": "code",
      "source": [
        "# Question apply maths operation\n",
        "def calc(a,b):\n",
        "  yield print(\"The sum is: \",a+b)\n",
        "  yield print(\"The sub is: \",a-b)\n",
        "  yield print(\"The multi is: \",a*b)\n",
        "  yield print(\"The divi is: \",a/b)\n",
        "a = int(input(\"Enter the first number: \"))\n",
        "b = int(input(\"Enter the second number: \"))\n",
        "c = calc(a,b)\n",
        "for i in c:\n",
        "  print(i)\n"
      ],
      "metadata": {
        "colab": {
          "base_uri": "https://localhost:8080/"
        },
        "id": "o4fts04fve0i",
        "outputId": "309ea6d0-7ddf-4a21-bd81-77f3cc61a0d6"
      },
      "execution_count": null,
      "outputs": [
        {
          "output_type": "stream",
          "name": "stdout",
          "text": [
            "Enter the first number: 3\n",
            "Enter the second number: 8\n",
            "The sum is:  11\n",
            "None\n",
            "The sub is:  -5\n",
            "None\n",
            "The multi is:  24\n",
            "None\n",
            "The divi is:  0.375\n",
            "None\n"
          ]
        }
      ]
    },
    {
      "cell_type": "code",
      "source": [
        "def gen(lst):\n",
        "    for item in lst:\n",
        "        yield item\n",
        "\n",
        "lst = [1, 2, 3]\n",
        "squares = (i**2 for i in lst)\n",
        "a = gen(squares)\n",
        "\n",
        "\n",
        "for i in a:\n",
        "    print(i)\n"
      ],
      "metadata": {
        "colab": {
          "base_uri": "https://localhost:8080/"
        },
        "id": "v9wt2nqTvjc1",
        "outputId": "da5d4f9b-6afc-4137-af38-ceb633296686"
      },
      "execution_count": null,
      "outputs": [
        {
          "output_type": "stream",
          "name": "stdout",
          "text": [
            "1\n",
            "4\n",
            "9\n"
          ]
        }
      ]
    },
    {
      "cell_type": "markdown",
      "source": [
        "# Creating env"
      ],
      "metadata": {
        "id": "nLqpTPlAxQcw"
      }
    },
    {
      "cell_type": "code",
      "source": [
        "# write a program in simpy to simulate the realtime process using a car, where the car is alternatively driving and parking for the specified duration of time"
      ],
      "metadata": {
        "id": "OPhwbv46xklA"
      },
      "execution_count": null,
      "outputs": []
    },
    {
      "cell_type": "code",
      "source": [
        "pip install simpy"
      ],
      "metadata": {
        "colab": {
          "base_uri": "https://localhost:8080/"
        },
        "id": "2Nw-whuczfWU",
        "outputId": "9f83c0ef-e2f5-4a10-bae0-d6de2030768f"
      },
      "execution_count": 2,
      "outputs": [
        {
          "output_type": "stream",
          "name": "stdout",
          "text": [
            "Collecting simpy\n",
            "  Downloading simpy-4.1.1-py3-none-any.whl.metadata (6.1 kB)\n",
            "Downloading simpy-4.1.1-py3-none-any.whl (27 kB)\n",
            "Installing collected packages: simpy\n",
            "Successfully installed simpy-4.1.1\n"
          ]
        }
      ]
    },
    {
      "cell_type": "code",
      "source": [
        "def car(env):\n",
        "  while(True):\n",
        "    print(\"The car is at parking and the timing is %d\" %env.now)\n",
        "    parking_duration = 5\n",
        "    yield env.timeout(parking_duration)\n",
        "    print(\"This car is driving at %d\"%env.now)\n",
        "    drive_duration = 2\n",
        "    yield env.timeout(drive_duration)"
      ],
      "metadata": {
        "id": "QutkzEFyzpGY"
      },
      "execution_count": 4,
      "outputs": []
    },
    {
      "cell_type": "code",
      "source": [
        "import simpy as sp\n",
        "env = sp.Environment()\n",
        "env.process(car(env))\n",
        "env.run(until=25)"
      ],
      "metadata": {
        "colab": {
          "base_uri": "https://localhost:8080/"
        },
        "id": "ADIBQY4389Y1",
        "outputId": "61afe176-0584-46ef-81f2-574df8866094"
      },
      "execution_count": 5,
      "outputs": [
        {
          "output_type": "stream",
          "name": "stdout",
          "text": [
            "The car is at parking and the timing is 0\n",
            "This car is driving at 5\n",
            "The car is at parking and the timing is 7\n",
            "This car is driving at 12\n",
            "The car is at parking and the timing is 14\n",
            "This car is driving at 19\n",
            "The car is at parking and the timing is 21\n"
          ]
        }
      ]
    },
    {
      "cell_type": "markdown",
      "source": [
        "# Process Interaction"
      ],
      "metadata": {
        "id": "Jr84Owfh9Wi8"
      }
    },
    {
      "cell_type": "code",
      "source": [
        "class car:\n",
        "  def __init__(self,env):\n",
        "    self.env=env\n",
        "    self.action=env.process(self.drive())\n",
        "  def drive(self):\n",
        "    while True:\n",
        "      print(f\"The car is in the parking and charging at {self.env.now} \")\n",
        "      charging_duration = 7\n",
        "      yield self.env.process(self.charge(charging_duration))\n",
        "\n",
        "\n",
        "      print(f\"the car is driving at {self.env.now}\")\n",
        "      drive_duration=3\n",
        "      yield self.env.timeout(drive_duration)\n",
        "  def charge(self,parking_duration):\n",
        "    yield self.env.timeout(parking_duration)\n"
      ],
      "metadata": {
        "id": "VfVsOD789glJ"
      },
      "execution_count": 22,
      "outputs": []
    },
    {
      "cell_type": "code",
      "source": [
        "import simpy as sp\n",
        "env = sp.Environment()\n",
        "A = car(env)\n",
        "env.run(until=55)\n"
      ],
      "metadata": {
        "colab": {
          "base_uri": "https://localhost:8080/"
        },
        "id": "7wrcLpXZ_UsF",
        "outputId": "fe38341e-68c8-47a4-88b3-a50eca5106cc"
      },
      "execution_count": 23,
      "outputs": [
        {
          "output_type": "stream",
          "name": "stdout",
          "text": [
            "The car is in the parking and charging at 0 \n",
            "the car is driving at 7\n",
            "The car is in the parking and charging at 10 \n",
            "the car is driving at 17\n",
            "The car is in the parking and charging at 20 \n",
            "the car is driving at 27\n",
            "The car is in the parking and charging at 30 \n",
            "the car is driving at 37\n",
            "The car is in the parking and charging at 40 \n",
            "the car is driving at 47\n",
            "The car is in the parking and charging at 50 \n"
          ]
        }
      ]
    },
    {
      "cell_type": "markdown",
      "source": [
        "# Process Interaction through interuption"
      ],
      "metadata": {
        "id": "gthLW_j4Ey4h"
      }
    },
    {
      "cell_type": "code",
      "source": [
        "import simpy"
      ],
      "metadata": {
        "id": "FTB_6FHaGCNM"
      },
      "execution_count": 24,
      "outputs": []
    },
    {
      "cell_type": "code",
      "source": [
        "def driver_arrival(env,car):\n",
        "  yield env.timeout(2)\n",
        "  car.action.interrupt()\n",
        "class car():\n",
        "  def __init__(self,env):\n",
        "    self.env=env\n",
        "    self.action=env.process(self.drive())\n",
        "  def drive(self):\n",
        "    while True:\n",
        "      print(f\"The car is the parking and the charging {self.env.now}\")\n",
        "      parking_duration=7\n",
        "      try:\n",
        "        yield self.env.process(self.charge(parking_duration))\n",
        "      except simpy.Interrupt:\n",
        "        print(\"Ghar chalo\")\n",
        "      print(f\"the car is driving at {self.env.now}\")\n",
        "      drive_duration = 3\n",
        "      yield self.env.timeout(drive_duration)\n",
        "  def charge (self,duration):\n",
        "    yield self.env.timeout(duration)\n",
        "\n",
        "\n"
      ],
      "metadata": {
        "id": "Ju_C8QX4Ew5K"
      },
      "execution_count": 25,
      "outputs": []
    },
    {
      "cell_type": "code",
      "source": [
        "import simpy as sp\n",
        "env = sp.Environment()\n",
        "car = car(env)\n",
        "env.process(driver_arrival(env,car))\n",
        "env.run(until=55)"
      ],
      "metadata": {
        "colab": {
          "base_uri": "https://localhost:8080/"
        },
        "id": "8TK5nQCYG1Kv",
        "outputId": "0906bdde-af94-45f5-92d8-d45fa96f63ef"
      },
      "execution_count": 26,
      "outputs": [
        {
          "output_type": "stream",
          "name": "stdout",
          "text": [
            "The car is the parking and the charging 0\n",
            "Ghar chalo\n",
            "the car is driving at 2\n",
            "The car is the parking and the charging 5\n",
            "the car is driving at 12\n",
            "The car is the parking and the charging 15\n",
            "the car is driving at 22\n",
            "The car is the parking and the charging 25\n",
            "the car is driving at 32\n",
            "The car is the parking and the charging 35\n",
            "the car is driving at 42\n",
            "The car is the parking and the charging 45\n",
            "the car is driving at 52\n"
          ]
        }
      ]
    }
  ]
}