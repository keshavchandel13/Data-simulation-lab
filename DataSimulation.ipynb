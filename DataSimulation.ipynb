{
  "nbformat": 4,
  "nbformat_minor": 0,
  "metadata": {
    "colab": {
      "provenance": [],
      "authorship_tag": "ABX9TyNN6iGn6yhjQzfBbCrBDUC7",
      "include_colab_link": true
    },
    "kernelspec": {
      "name": "python3",
      "display_name": "Python 3"
    },
    "language_info": {
      "name": "python"
    }
  },
  "cells": [
    {
      "cell_type": "markdown",
      "metadata": {
        "id": "view-in-github",
        "colab_type": "text"
      },
      "source": [
        "<a href=\"https://colab.research.google.com/github/keshavchandel13/Data-simulation-lab/blob/main/DataSimulation.ipynb\" target=\"_parent\"><img src=\"https://colab.research.google.com/assets/colab-badge.svg\" alt=\"Open In Colab\"/></a>"
      ]
    },
    {
      "cell_type": "markdown",
      "source": [
        "# DATA SIMULATION LAB\n"
      ],
      "metadata": {
        "id": "UjWndlc9n9s-"
      }
    },
    {
      "cell_type": "code",
      "source": [
        "#  --> Making  iterable\n",
        "word = \"JUIT\"\n",
        "it = iter(word)\n",
        "print(it)\n",
        "next(it)"
      ],
      "metadata": {
        "colab": {
          "base_uri": "https://localhost:8080/",
          "height": 52
        },
        "id": "N6PHNbA7qtzD",
        "outputId": "f89e116f-5475-4d9c-fd67-f56ad512555f"
      },
      "execution_count": 4,
      "outputs": [
        {
          "output_type": "stream",
          "name": "stdout",
          "text": [
            "<str_ascii_iterator object at 0x7c2692684af0>\n"
          ]
        },
        {
          "output_type": "execute_result",
          "data": {
            "text/plain": [
              "'J'"
            ],
            "application/vnd.google.colaboratory.intrinsic+json": {
              "type": "string"
            }
          },
          "metadata": {},
          "execution_count": 4
        }
      ]
    },
    {
      "cell_type": "code",
      "source": [
        "print(it)\n",
        "next(it)"
      ],
      "metadata": {
        "colab": {
          "base_uri": "https://localhost:8080/",
          "height": 52
        },
        "id": "dkA_tvQ7q7ga",
        "outputId": "83f2334f-c197-4db7-c8b9-3498c01950de"
      },
      "execution_count": 5,
      "outputs": [
        {
          "output_type": "stream",
          "name": "stdout",
          "text": [
            "<str_ascii_iterator object at 0x7c2692684af0>\n"
          ]
        },
        {
          "output_type": "execute_result",
          "data": {
            "text/plain": [
              "'U'"
            ],
            "application/vnd.google.colaboratory.intrinsic+json": {
              "type": "string"
            }
          },
          "metadata": {},
          "execution_count": 5
        }
      ]
    },
    {
      "cell_type": "code",
      "source": [
        "print(it)\n",
        "next(it)"
      ],
      "metadata": {
        "colab": {
          "base_uri": "https://localhost:8080/",
          "height": 52
        },
        "id": "qk0rrc8JrDoY",
        "outputId": "f4a73f8e-cb1b-4d5a-ea7f-818bb748478d"
      },
      "execution_count": 6,
      "outputs": [
        {
          "output_type": "stream",
          "name": "stdout",
          "text": [
            "<str_ascii_iterator object at 0x7c2692684af0>\n"
          ]
        },
        {
          "output_type": "execute_result",
          "data": {
            "text/plain": [
              "'I'"
            ],
            "application/vnd.google.colaboratory.intrinsic+json": {
              "type": "string"
            }
          },
          "metadata": {},
          "execution_count": 6
        }
      ]
    },
    {
      "cell_type": "code",
      "source": [
        "print(it)\n",
        "next(it)"
      ],
      "metadata": {
        "colab": {
          "base_uri": "https://localhost:8080/",
          "height": 52
        },
        "id": "An-5cd57rG4w",
        "outputId": "f31fa5ea-c262-4ea1-c7b0-03a0dfa882cf"
      },
      "execution_count": 7,
      "outputs": [
        {
          "output_type": "stream",
          "name": "stdout",
          "text": [
            "<str_ascii_iterator object at 0x7c2692684af0>\n"
          ]
        },
        {
          "output_type": "execute_result",
          "data": {
            "text/plain": [
              "'T'"
            ],
            "application/vnd.google.colaboratory.intrinsic+json": {
              "type": "string"
            }
          },
          "metadata": {},
          "execution_count": 7
        }
      ]
    },
    {
      "cell_type": "markdown",
      "source": [
        "# Generator Function\n",
        "Return the data without closing function\n"
      ],
      "metadata": {
        "id": "7BIUWYR3vLWA"
      }
    },
    {
      "cell_type": "code",
      "source": [
        "def generator_fun():\n",
        "  yield 1\n",
        "  yield 2\n",
        "  yield 3\n",
        "  yield 10\n",
        "a = generator_fun()\n",
        "print(type(a))\n",
        "for i in a:\n",
        "  print(i,end=\" \")\n",
        "\n"
      ],
      "metadata": {
        "colab": {
          "base_uri": "https://localhost:8080/"
        },
        "id": "hTcSVeFLreeh",
        "outputId": "5b805700-f11c-4715-cbae-eeb0c0d1f606"
      },
      "execution_count": 13,
      "outputs": [
        {
          "output_type": "stream",
          "name": "stdout",
          "text": [
            "<class 'generator'>\n",
            "1 2 3 10 "
          ]
        }
      ]
    },
    {
      "cell_type": "code",
      "source": [
        "# Question apply maths operation\n",
        "def calc(a,b):\n",
        "  yield print(\"The sum is: \",a+b)\n",
        "  yield print(\"The sub is: \",a-b)\n",
        "  yield print(\"The multi is: \",a*b)\n",
        "  yield print(\"The divi is: \",a/b)\n",
        "a = int(input(\"Enter the first number: \"))\n",
        "b = int(input(\"Enter the second number: \"))\n",
        "c = calc(a,b)\n",
        "for i in c:\n",
        "  print(i)\n"
      ],
      "metadata": {
        "colab": {
          "base_uri": "https://localhost:8080/"
        },
        "id": "o4fts04fve0i",
        "outputId": "309ea6d0-7ddf-4a21-bd81-77f3cc61a0d6"
      },
      "execution_count": 17,
      "outputs": [
        {
          "output_type": "stream",
          "name": "stdout",
          "text": [
            "Enter the first number: 3\n",
            "Enter the second number: 8\n",
            "The sum is:  11\n",
            "None\n",
            "The sub is:  -5\n",
            "None\n",
            "The multi is:  24\n",
            "None\n",
            "The divi is:  0.375\n",
            "None\n"
          ]
        }
      ]
    },
    {
      "cell_type": "code",
      "source": [],
      "metadata": {
        "id": "v9wt2nqTvjc1"
      },
      "execution_count": null,
      "outputs": []
    }
  ]
}